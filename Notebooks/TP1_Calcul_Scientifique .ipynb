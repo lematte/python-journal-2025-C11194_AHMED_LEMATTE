{
 "cells": [
  {
   "cell_type": "code",
   "execution_count": 2,
   "metadata": {},
   "outputs": [],
   "source": [
    "import pandas as pd\n",
    "import numpy as np\n",
    "import matplotlib.pyplot as plt"
   ]
  },
  {
   "cell_type": "markdown",
   "metadata": {},
   "source": [
    "#### Exercice 1 : Vérifier si une valeur est un zéro de fonction"
   ]
  },
  {
   "cell_type": "code",
   "execution_count": 24,
   "metadata": {},
   "outputs": [
    {
     "name": "stdout",
     "output_type": "stream",
     "text": [
      "f(x0) = 4.440892098500626e-16\n"
     ]
    }
   ],
   "source": [
    "import math\n",
    "\n",
    "def f(x):\n",
    "    return x**2 - 2 \n",
    "\n",
    "x0 = math.sqrt(2)\n",
    "print(\"f(x0) =\", f(x0))  \n"
   ]
  },
  {
   "cell_type": "markdown",
   "metadata": {},
   "source": [
    "#### Exercice 2 : Vérification de la formule de Moivre"
   ]
  },
  {
   "cell_type": "code",
   "execution_count": 25,
   "metadata": {},
   "outputs": [
    {
     "name": "stdout",
     "output_type": "stream",
     "text": [
      "LHS: (-0.7071067811865479-0.7071067811865479j)\n",
      "RHS: (-0.7071067811865477-0.7071067811865475j)\n",
      "Is equal: True\n"
     ]
    }
   ],
   "source": [
    "import cmath\n",
    "\n",
    "n = 5\n",
    "x = math.pi / 4\n",
    "\n",
    "lhs = (cmath.cos(x) + 1j * cmath.sin(x)) ** n\n",
    "rhs = cmath.cos(n * x) + 1j * cmath.sin(n * x)\n",
    "\n",
    "print(\"LHS:\", lhs)\n",
    "print(\"RHS:\", rhs)\n",
    "print(\"Is equal:\", cmath.isclose(lhs, rhs, rel_tol=1e-9))\n"
   ]
  },
  {
   "cell_type": "markdown",
   "metadata": {},
   "source": [
    "#### Exercice 3 : Vérifier la formule d’Eule \n",
    "e^ix=cosx+isinx"
   ]
  },
  {
   "cell_type": "code",
   "execution_count": 26,
   "metadata": {},
   "outputs": [
    {
     "name": "stdout",
     "output_type": "stream",
     "text": [
      "Euler's formula LHS: (0.5000000000000001+0.8660254037844386j)\n",
      "RHS: (0.5000000000000001+0.8660254037844386j)\n",
      "Is equal: True\n"
     ]
    }
   ],
   "source": [
    "x = math.pi / 3\n",
    "\n",
    "lhs = cmath.exp(1j * x)\n",
    "rhs = cmath.cos(x) + 1j * cmath.sin(x)\n",
    "\n",
    "print(\"Euler's formula LHS:\", lhs)\n",
    "print(\"RHS:\", rhs)\n",
    "print(\"Is equal:\", cmath.isclose(lhs, rhs, rel_tol=1e-9))\n"
   ]
  },
  {
   "cell_type": "markdown",
   "metadata": {},
   "source": [
    "####  Exercice 4 : Séquence divergente et convergence"
   ]
  },
  {
   "cell_type": "code",
   "execution_count": 27,
   "metadata": {},
   "outputs": [
    {
     "name": "stdout",
     "output_type": "stream",
     "text": [
      "Convergence\n"
     ]
    }
   ],
   "source": [
    "u = 1.0  # float !\n",
    "uold = 10.0\n",
    "\n",
    "for iteration in range(2000):\n",
    "    if not abs(u - uold) > 1.e-8:\n",
    "        print('Convergence')\n",
    "        break\n",
    "    uold = u\n",
    "    u = 2 * u\n",
    "else:\n",
    "    print('No convergence')\n"
   ]
  },
  {
   "cell_type": "markdown",
   "metadata": {},
   "source": [
    "#### Exercice 5 : Implémentation de l’implication logique"
   ]
  },
  {
   "cell_type": "code",
   "execution_count": 28,
   "metadata": {},
   "outputs": [
    {
     "name": "stdout",
     "output_type": "stream",
     "text": [
      "True ⇒ False = False\n",
      "False ⇒ True = True\n"
     ]
    }
   ],
   "source": [
    "def implication(A: bool, B: bool) -> bool:\n",
    "    return (not A) or B\n",
    "\n",
    "# Exemple\n",
    "print(\"True ⇒ False =\", implication(True, False))  # False\n",
    "print(\"False ⇒ True =\", implication(False, True))  # True\n"
   ]
  },
  {
   "cell_type": "markdown",
   "metadata": {},
   "source": [
    "#### Exercice 6 : Implémentation d’un half-adder"
   ]
  },
  {
   "cell_type": "code",
   "execution_count": 30,
   "metadata": {},
   "outputs": [
    {
     "name": "stdout",
     "output_type": "stream",
     "text": [
      "p=0, q=0 => sum=0, carry=0\n",
      "p=0, q=1 => sum=1, carry=0\n",
      "p=1, q=0 => sum=1, carry=0\n",
      "p=1, q=1 => sum=0, carry=1\n"
     ]
    }
   ],
   "source": [
    "def half_adder(p: int, q: int):\n",
    "    sum_bit = p ^ q     # XOR\n",
    "    carry_bit = p & q   # AND\n",
    "    return sum_bit, carry_bit\n",
    "\n",
    "# Test\n",
    "for p in (0, 1):\n",
    "    for q in (0, 1):\n",
    "        s, c = half_adder(p, q)\n",
    "        print(f\"p={p}, q={q} => sum={s}, carry={c}\")\n"
   ]
  },
  {
   "cell_type": "markdown",
   "metadata": {},
   "source": [
    "#### Exercice 7 : Manipulation de listes"
   ]
  },
  {
   "cell_type": "code",
   "execution_count": 31,
   "metadata": {},
   "outputs": [
    {
     "name": "stdout",
     "output_type": "stream",
     "text": [
      "L3: [1, 2, 1, 2, 1, 2]\n",
      "L3[0]: 1\n",
      "L3[-1]: 2\n",
      "L3[10] génère une erreur IndexError\n",
      "L4: [1, 4, 1, 4, 1, 4]\n",
      "L5: [1, 2, 1, 2, 1, 2, 1, 4, 1, 4, 1, 4]\n"
     ]
    }
   ],
   "source": [
    "L = [1, 2]\n",
    "L3 = 3 * L\n",
    "print(\"L3:\", L3)           # [1, 2, 1, 2, 1, 2]\n",
    "print(\"L3[0]:\", L3[0])     # 1\n",
    "print(\"L3[-1]:\", L3[-1])   # 2\n",
    "\n",
    "try:\n",
    "    print(\"L3[10]:\", L3[10])\n",
    "except IndexError:\n",
    "    print(\"L3[10] génère une erreur IndexError\")  # Car la taille est 6\n",
    "\n",
    "L4 = [k**2 for k in L3]    # Carré de chaque élément\n",
    "print(\"L4:\", L4)           # [1, 4, 1, 4, 1, 4]\n",
    "\n",
    "L5 = L3 + L4\n",
    "print(\"L5:\", L5)\n"
   ]
  },
  {
   "cell_type": "markdown",
   "metadata": {},
   "source": [
    "#### Exercice 8 : Liste de 100 valeurs entre 0 et 1"
   ]
  },
  {
   "cell_type": "code",
   "execution_count": 32,
   "metadata": {},
   "outputs": [
    {
     "name": "stdout",
     "output_type": "stream",
     "text": [
      "[0.0, 0.010101010101010102, 0.020202020202020204, 0.030303030303030304, 0.04040404040404041] ... [0.9595959595959596, 0.9696969696969697, 0.9797979797979798, 0.98989898989899, 1.0]\n"
     ]
    }
   ],
   "source": [
    "values = [k / 99 for k in range(100)]\n",
    "print(values[:5], \"...\", values[-5:])  # Aperçu des extrémités\n"
   ]
  },
  {
   "cell_type": "markdown",
   "metadata": {},
   "source": [
    "#### Exercice 9 : Manipulation d'une séquence"
   ]
  },
  {
   "cell_type": "code",
   "execution_count": 38,
   "metadata": {},
   "outputs": [
    {
     "name": "stdout",
     "output_type": "stream",
     "text": [
      "L[0]: 0\n",
      "L[-1]: 0\n",
      "L[:-1]: [0, 1, 2, 1, 0, -1, -2, -1]\n",
      "L + L[1:-1] + L: [0, 1, 2, 1, 0, -1, -2, -1, 0, 1, 2, 1, 0, -1, -2, -1, 0, 1, 2, 1, 0, -1, -2, -1, 0]\n",
      "Après insertion -3: [0, 1, -3, 2, 1, 0, -1, -2, -1, 0]\n",
      "Après suppression index 3: [0, 1, 2, 0, -1, -2, -1, 0]\n",
      "Après remplacement [2:5]: [0, 1, -5, -1, -2, -1, 0]\n"
     ]
    }
   ],
   "source": [
    "L = [0, 1, 2, 1, 0, -1, -2, -1, 0]\n",
    "\n",
    "print(\"L[0]:\", L[0])         # 0\n",
    "print(\"L[-1]:\", L[-1])       # 0\n",
    "print(\"L[:-1]:\", L[:-1])     # Tous sauf le dernier\n",
    "\n",
    "# Combinaison\n",
    "print(\"L + L[1:-1] + L:\", L + L[1:-1] + L)\n",
    "\n",
    "# Insertion de -3 à l'indice 2\n",
    "L_temp = L.copy()\n",
    "L_temp[2:2] = [-3]\n",
    "print(\"Après insertion -3:\", L_temp)\n",
    "\n",
    "# Suppression de l’élément à l’indice 3\n",
    "L_temp = L.copy()\n",
    "L_temp[3:4] = []\n",
    "print(\"Après suppression index 3:\", L_temp)\n",
    "\n",
    "# Remplacement de [2:5] par [-5]\n",
    "L_temp = L.copy()\n",
    "L_temp[2:5] = [-5]\n",
    "print(\"Après remplacement [2:5]:\", L_temp)\n"
   ]
  },
  {
   "cell_type": "markdown",
   "metadata": {},
   "source": [
    " #### Exercice 10 : Calcul avec compréhension de liste"
   ]
  },
  {
   "cell_type": "code",
   "execution_count": 37,
   "metadata": {},
   "outputs": [
    {
     "name": "stdout",
     "output_type": "stream",
     "text": [
      "ans: 0.0\n"
     ]
    }
   ],
   "source": [
    "m = 6\n",
    "L = [n - m / 2 for n in range(m)]  # [-3.0, -2.0, -1.0, 0.0, 1.0, 2.0]\n",
    "ans = 1 + L[0] + L[-1]\n",
    "print(\"ans:\", ans)  # 1 + (-3.0) + 2.0 = 0.0\n"
   ]
  },
  {
   "cell_type": "markdown",
   "metadata": {},
   "source": [
    "#### Exercice 11 : Récurrence et tracé"
   ]
  },
  {
   "cell_type": "code",
   "execution_count": 36,
   "metadata": {},
   "outputs": [
    {
     "data": {
      "image/png": "[encoded data removed]",
      "text/plain": [
       "<Figure size 432x288 with 1 Axes>"
      ]
     },
     "metadata": {
      "needs_background": "light"
     },
     "output_type": "display_data"
    },
    {
     "data": {
      "image/png": "[encoded data removed]",
      "text/plain": [
       "<Figure size 432x288 with 1 Axes>"
      ]
     },
     "metadata": {
      "needs_background": "light"
     },
     "output_type": "display_data"
    }
   ],
   "source": [
    "import matplotlib.pyplot as plt\n",
    "\n",
    "# Initialisation de la suite u\n",
    "u = [0, 1, 2]  # u0, u1, u2\n",
    "for n in range(3, 50):\n",
    "    next_u = 2 * u[n-1] - u[n-2] + 0.1\n",
    "    u.append(next_u)\n",
    "\n",
    "# Construction de td[n] = (u[n+1] - u[n-1]) / 2\n",
    "td = [(u[n+1] - u[n-1]) / 2 for n in range(1, len(u)-1)]\n",
    "\n",
    "# Tracé\n",
    "plt.plot(u[1:-1], td, label='td vs u')\n",
    "plt.xlabel('u[n]')\n",
    "plt.ylabel('td[n]')\n",
    "plt.title('Représentation de la dérivée td en fonction de u')\n",
    "plt.legend()\n",
    "plt.grid()\n",
    "plt.show()\n",
    "\n",
    "# Tracé de l'erreur\n",
    "errors = [td[n] - u[n+1] for n in range(len(td))]\n",
    "plt.plot(errors)\n",
    "plt.title(\"Erreur (td[n] - u[n+1])\")\n",
    "plt.xlabel(\"n\")\n",
    "plt.grid()\n",
    "plt.show()\n"
   ]
  },
  {
   "cell_type": "markdown",
   "metadata": {},
   "source": [
    "#### Exercice 12 : Différence symétrique entre deux ensembles"
   ]
  },
  {
   "cell_type": "code",
   "execution_count": 35,
   "metadata": {},
   "outputs": [
    {
     "name": "stdout",
     "output_type": "stream",
     "text": [
      "Custom: {1, 2, 4, 5}\n",
      "Built-in: {1, 2, 4, 5}\n"
     ]
    }
   ],
   "source": [
    "def symmetric_difference(A, B):\n",
    "    return (A | B) - (A & B)\n",
    "\n",
    "A = {1, 2, 3}\n",
    "B = {3, 4, 5}\n",
    "\n",
    "print(\"Custom:\", symmetric_difference(A, B))\n",
    "print(\"Built-in:\", A.symmetric_difference(B))\n"
   ]
  },
  {
   "cell_type": "markdown",
   "metadata": {},
   "source": [
    "#### Exercice 13 : Sous-ensemble vide"
   ]
  },
  {
   "cell_type": "code",
   "execution_count": 34,
   "metadata": {},
   "outputs": [
    {
     "name": "stdout",
     "output_type": "stream",
     "text": [
      "empty ⊆ S ? True\n"
     ]
    }
   ],
   "source": [
    "empty_set = set()\n",
    "S = {1, 2, 3}\n",
    "\n",
    "print(\"empty ⊆ S ?\", empty_set.issubset(S))  # True\n"
   ]
  },
  {
   "cell_type": "markdown",
   "metadata": {},
   "source": [
    "#### Exercice 14 : Opérations avancées sur les ensembles"
   ]
  },
  {
   "cell_type": "code",
   "execution_count": 33,
   "metadata": {},
   "outputs": [
    {
     "name": "stdout",
     "output_type": "stream",
     "text": [
      "intersection_update: {3, 4}\n",
      "intersection: {3, 4}\n",
      "A2 après intersection: {1, 2, 3, 4}\n"
     ]
    }
   ],
   "source": [
    "A = {1, 2, 3, 4}\n",
    "B = {3, 4, 5, 6}\n",
    "\n",
    "# intersection_update modifie A\n",
    "A1 = A.copy()\n",
    "A1.intersection_update(B)\n",
    "print(\"intersection_update:\", A1)\n",
    "\n",
    "# intersection crée un nouveau set\n",
    "A2 = A.copy()\n",
    "inter = A2.intersection(B)\n",
    "print(\"intersection:\", inter)\n",
    "print(\"A2 après intersection:\", A2)  # inchangé\n"
   ]
  },
  {
   "cell_type": "code",
   "execution_count": null,
   "metadata": {},
   "outputs": [],
   "source": []
  }
 ],
 "metadata": {
  "kernelspec": {
   "display_name": "Python 3",
   "language": "python",
   "name": "python3"
  },
  "language_info": {
   "codemirror_mode": {
    "name": "ipython",
    "version": 3
   },
   "file_extension": ".py",
   "mimetype": "text/x-python",
   "name": "python",
   "nbconvert_exporter": "python",
   "pygments_lexer": "ipython3",
   "version": "3.8.5"
  }
 },
 "nbformat": 4,
 "nbformat_minor": 4
}
